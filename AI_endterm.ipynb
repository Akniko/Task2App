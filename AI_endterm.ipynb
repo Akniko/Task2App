{
  "nbformat": 4,
  "nbformat_minor": 0,
  "metadata": {
    "colab": {
      "name": "AI_endterm.ipynb",
      "provenance": [],
      "collapsed_sections": [],
      "include_colab_link": true
    },
    "kernelspec": {
      "name": "python3",
      "display_name": "Python 3"
    },
    "language_info": {
      "name": "python"
    }
  },
  "cells": [
    {
      "cell_type": "markdown",
      "metadata": {
        "id": "view-in-github",
        "colab_type": "text"
      },
      "source": [
        "<a href=\"https://colab.research.google.com/github/Akniko/Task2App/blob/main/AI_endterm.ipynb\" target=\"_parent\"><img src=\"https://colab.research.google.com/assets/colab-badge.svg\" alt=\"Open In Colab\"/></a>"
      ]
    },
    {
      "cell_type": "markdown",
      "source": [
        "# Artificial Intelligence Final Project\n",
        "\n",
        "Theme: **AI against COVID-19: COVID detection with audio cough recordings**\n",
        "\n",
        "Done by MSc Software Engineering 2nd year students: \n",
        "\n",
        "Alibek Akniyet\n",
        "\n",
        "Talapkaliyeva Aiya\n",
        "\n",
        "Talapova Shyryn"
      ],
      "metadata": {
        "id": "OH8eDbLZNjBx"
      }
    },
    {
      "cell_type": "code",
      "source": [
        "from google.colab import drive\n",
        "drive.mount('/content/drive')"
      ],
      "metadata": {
        "id": "5FK4IziIatgo"
      },
      "execution_count": null,
      "outputs": []
    },
    {
      "cell_type": "code",
      "execution_count": null,
      "metadata": {
        "id": "kg_1R7ouD0R2"
      },
      "outputs": [],
      "source": [
        "#importing all necessary libraries\n",
        "import numpy\n",
        "import seaborn\n",
        "import matplotlib.pyplot as pyplot\n",
        "import tensorflow\n",
        "import librosa\n",
        "import librosa.display\n",
        "import io\n",
        "from tensorflow.keras.preprocessing.image import ImageDataGenerator\n",
        "from tensorflow.keras.models import load_model\n",
        "from keras.preprocessing import image\n",
        "from sklearn.metrics import confusion_matrix\n",
        "from scipy import signal\n",
        "from scipy.io import wavfile\n",
        "from matplotlib.pyplot import specgram\n",
        "from PIL import Image"
      ]
    },
    {
      "cell_type": "code",
      "source": [
        "\"\"\"\n",
        "#transforming cough mp3 files into mel spectograms\n",
        "#in total we got 121 images with negative and positive results\n",
        "\n",
        "samples, sample_rate = librosa.load('/content/drive/MyDrive/cough_recordings/clinical_segmented_neg_neg-0422-098-cough-f-24-5.mp3')\n",
        "fig = pyplot.figure(figsize = [4, 4])\n",
        "ax = fig.add_subplot(111)\n",
        "ax.axes.get_xaxis().set_visible(False)\n",
        "ax.axes.get_yaxis().set_visible(False)\n",
        "ax.set_frame_on(False)\n",
        "S = librosa.feature.melspectrogram(y = samples, sr = sample_rate)\n",
        "librosa.display.specshow(librosa.power_to_db(S, ref = numpy.max))\n",
        "buf = io.BytesIO()\n",
        "pyplot.savefig(buf, bbox_inches = 'tight', pad_inches = 0)\n",
        "buf.seek(0)\n",
        "im = Image.open(buf)\n",
        "im.show()\n",
        "buf.close()\n",
        "\n",
        "\"\"\""
      ],
      "metadata": {
        "id": "kPQTg0lnENeD",
        "colab": {
          "base_uri": "https://localhost:8080/",
          "height": 88
        },
        "outputId": "6eb67ca0-6238-4ba7-ff12-5799f80062b1"
      },
      "execution_count": null,
      "outputs": [
        {
          "output_type": "execute_result",
          "data": {
            "application/vnd.google.colaboratory.intrinsic+json": {
              "type": "string"
            },
            "text/plain": [
              "\"\\n#transforming cough mp3 files into mel spectograms\\n#in total we got 121 images with negative and positive results\\n\\nsamples, sample_rate = librosa.load('/content/drive/MyDrive/Audiodata/clinical_segmented_neg_neg-0422-098-cough-f-24-5.mp3')\\nfig = pyplot.figure(figsize = [4, 4])\\nax = fig.add_subplot(111)\\nax.axes.get_xaxis().set_visible(False)\\nax.axes.get_yaxis().set_visible(False)\\nax.set_frame_on(False)\\nS = librosa.feature.melspectrogram(y = samples, sr = sample_rate)\\nlibrosa.display.specshow(librosa.power_to_db(S, ref = numpy.max))\\nbuf = io.BytesIO()\\npyplot.savefig(buf, bbox_inches = 'tight', pad_inches = 0)\\nbuf.seek(0)\\nim = Image.open(buf)\\nim.show()\\nbuf.close()\\n\\n\""
            ]
          },
          "metadata": {},
          "execution_count": 56
        }
      ]
    },
    {
      "cell_type": "code",
      "source": [
        "#connecting google drive to the notebook to upload images of mel spectograms\n",
        "from google.colab import drive\n",
        "drive.mount('/content/drive')"
      ],
      "metadata": {
        "id": "zW6dtIeleHVv",
        "colab": {
          "base_uri": "https://localhost:8080/"
        },
        "outputId": "77337151-298b-43a6-a332-e0df26aaa198"
      },
      "execution_count": null,
      "outputs": [
        {
          "output_type": "stream",
          "name": "stdout",
          "text": [
            "Drive already mounted at /content/drive; to attempt to forcibly remount, call drive.mount(\"/content/drive\", force_remount=True).\n"
          ]
        }
      ]
    },
    {
      "cell_type": "code",
      "source": [
        "#specifying the path to the folder containing our newly made mel specograms of coughs\n",
        "spectograms = '/content/drive/MyDrive/cough_spectograms'"
      ],
      "metadata": {
        "id": "pHfNrEIzEKzV"
      },
      "execution_count": null,
      "outputs": []
    },
    {
      "cell_type": "code",
      "source": [
        "#preprocessing image data and dividing it into training (80%) and validation (20%) data\n",
        "generate_data = ImageDataGenerator(rescale = 1./255, validation_split = 0.2)\n",
        "training_data = generate_data.flow_from_directory(directory = spectograms, target_size = (150, 150), shuffle = True, subset = 'training')\n",
        "validation_data = generate_data.flow_from_directory(directory = spectograms, target_size = (150, 150), subset = 'validation')"
      ],
      "metadata": {
        "colab": {
          "base_uri": "https://localhost:8080/"
        },
        "id": "wJFhRpigElL5",
        "outputId": "61fb4aa8-5622-4df2-ff31-9b036b5b773e"
      },
      "execution_count": null,
      "outputs": [
        {
          "output_type": "stream",
          "name": "stdout",
          "text": [
            "Found 98 images belonging to 2 classes.\n",
            "Found 23 images belonging to 2 classes.\n"
          ]
        }
      ]
    },
    {
      "cell_type": "code",
      "source": [
        "#building convolutional neural network model with four layers\n",
        "#we used relu activation function and for the output softmax activation function\n",
        "convnet_model = tensorflow.keras.models.Sequential([\n",
        "    tensorflow.keras.layers.Conv2D(16, (3, 3), activation = 'relu', input_shape = (150, 150, 3)),\n",
        "    tensorflow.keras.layers.MaxPooling2D(2, 2),\n",
        "    tensorflow.keras.layers.Conv2D(32, (3, 3), activation = 'relu'),\n",
        "    tensorflow.keras.layers.MaxPooling2D(2, 2),\n",
        "    tensorflow.keras.layers.Conv2D(64, (3, 3), activation = 'relu'),\n",
        "    tensorflow.keras.layers.MaxPooling2D(2,2),\n",
        "    tensorflow.keras.layers.Conv2D(64, (3, 3), activation = 'relu'),\n",
        "    tensorflow.keras.layers.MaxPooling2D(2, 2),\n",
        "    tensorflow.keras.layers.Flatten(),\n",
        "    tensorflow.keras.layers.Dropout(0.5),\n",
        "    tensorflow.keras.layers.Dense(256, activation = 'relu'),\n",
        "    tensorflow.keras.layers.Dense(2, activation = 'softmax') \n",
        "]) "
      ],
      "metadata": {
        "id": "UjE-L3B5GAAd"
      },
      "execution_count": null,
      "outputs": []
    },
    {
      "cell_type": "code",
      "source": [
        "#compiling and fitting our convnet_model with categorical_crossentropy as loss function, and adam as optimizer, setting 100 epochs\n",
        "convnet_model.compile(loss = 'categorical_crossentropy', optimizer = 'adam', metrics = ['accuracy'])\n",
        "convnet_model.fit(training_data, batch_size = 32, epochs = 100)"
      ],
      "metadata": {
        "colab": {
          "base_uri": "https://localhost:8080/"
        },
        "id": "o_UQkI4fGrAR",
        "outputId": "13bbf287-3d55-4039-d2ee-1b77909c8efd"
      },
      "execution_count": null,
      "outputs": [
        {
          "output_type": "stream",
          "name": "stdout",
          "text": [
            "Epoch 1/100\n",
            "4/4 [==============================] - 3s 689ms/step - loss: 0.6632 - accuracy: 0.6122\n",
            "Epoch 2/100\n",
            "4/4 [==============================] - 2s 694ms/step - loss: 0.5882 - accuracy: 0.6939\n",
            "Epoch 3/100\n",
            "4/4 [==============================] - 2s 456ms/step - loss: 0.5881 - accuracy: 0.7857\n",
            "Epoch 4/100\n",
            "4/4 [==============================] - 2s 461ms/step - loss: 0.5567 - accuracy: 0.7551\n",
            "Epoch 5/100\n",
            "4/4 [==============================] - 2s 686ms/step - loss: 0.5919 - accuracy: 0.7347\n",
            "Epoch 6/100\n",
            "4/4 [==============================] - 2s 455ms/step - loss: 0.5794 - accuracy: 0.7347\n",
            "Epoch 7/100\n",
            "4/4 [==============================] - 2s 483ms/step - loss: 0.5386 - accuracy: 0.7041\n",
            "Epoch 8/100\n",
            "4/4 [==============================] - 2s 459ms/step - loss: 0.5547 - accuracy: 0.7653\n",
            "Epoch 9/100\n",
            "4/4 [==============================] - 2s 452ms/step - loss: 0.5666 - accuracy: 0.7755\n",
            "Epoch 10/100\n",
            "4/4 [==============================] - 2s 479ms/step - loss: 0.5227 - accuracy: 0.7857\n",
            "Epoch 11/100\n",
            "4/4 [==============================] - 2s 697ms/step - loss: 0.4904 - accuracy: 0.8061\n",
            "Epoch 12/100\n",
            "4/4 [==============================] - 2s 682ms/step - loss: 0.4881 - accuracy: 0.7959\n",
            "Epoch 13/100\n",
            "4/4 [==============================] - 2s 677ms/step - loss: 0.5563 - accuracy: 0.7755\n",
            "Epoch 14/100\n",
            "4/4 [==============================] - 2s 454ms/step - loss: 0.4971 - accuracy: 0.7857\n",
            "Epoch 15/100\n",
            "4/4 [==============================] - 2s 461ms/step - loss: 0.4635 - accuracy: 0.8265\n",
            "Epoch 16/100\n",
            "4/4 [==============================] - 2s 470ms/step - loss: 0.5126 - accuracy: 0.7857\n",
            "Epoch 17/100\n",
            "4/4 [==============================] - 2s 483ms/step - loss: 0.5108 - accuracy: 0.7959\n",
            "Epoch 18/100\n",
            "4/4 [==============================] - 2s 695ms/step - loss: 0.4931 - accuracy: 0.7959\n",
            "Epoch 19/100\n",
            "4/4 [==============================] - 2s 458ms/step - loss: 0.4782 - accuracy: 0.7959\n",
            "Epoch 20/100\n",
            "4/4 [==============================] - 2s 456ms/step - loss: 0.4436 - accuracy: 0.8265\n",
            "Epoch 21/100\n",
            "4/4 [==============================] - 2s 502ms/step - loss: 0.4430 - accuracy: 0.7959\n",
            "Epoch 22/100\n",
            "4/4 [==============================] - 2s 463ms/step - loss: 0.4414 - accuracy: 0.8061\n",
            "Epoch 23/100\n",
            "4/4 [==============================] - 2s 453ms/step - loss: 0.4453 - accuracy: 0.8265\n",
            "Epoch 24/100\n",
            "4/4 [==============================] - 2s 468ms/step - loss: 0.4777 - accuracy: 0.8061\n",
            "Epoch 25/100\n",
            "4/4 [==============================] - 2s 462ms/step - loss: 0.4018 - accuracy: 0.8367\n",
            "Epoch 26/100\n",
            "4/4 [==============================] - 2s 485ms/step - loss: 0.4065 - accuracy: 0.8571\n",
            "Epoch 27/100\n",
            "4/4 [==============================] - 2s 489ms/step - loss: 0.4115 - accuracy: 0.8265\n",
            "Epoch 28/100\n",
            "4/4 [==============================] - 2s 487ms/step - loss: 0.3957 - accuracy: 0.8673\n",
            "Epoch 29/100\n",
            "4/4 [==============================] - 2s 453ms/step - loss: 0.3730 - accuracy: 0.8367\n",
            "Epoch 30/100\n",
            "4/4 [==============================] - 2s 465ms/step - loss: 0.4123 - accuracy: 0.8163\n",
            "Epoch 31/100\n",
            "4/4 [==============================] - 2s 691ms/step - loss: 0.4261 - accuracy: 0.8163\n",
            "Epoch 32/100\n",
            "4/4 [==============================] - 2s 452ms/step - loss: 0.4082 - accuracy: 0.8163\n",
            "Epoch 33/100\n",
            "4/4 [==============================] - 2s 687ms/step - loss: 0.3468 - accuracy: 0.8776\n",
            "Epoch 34/100\n",
            "4/4 [==============================] - 2s 686ms/step - loss: 0.4168 - accuracy: 0.8776\n",
            "Epoch 35/100\n",
            "4/4 [==============================] - 2s 461ms/step - loss: 0.4207 - accuracy: 0.7959\n",
            "Epoch 36/100\n",
            "4/4 [==============================] - 2s 483ms/step - loss: 0.3485 - accuracy: 0.8367\n",
            "Epoch 37/100\n",
            "4/4 [==============================] - 2s 451ms/step - loss: 0.3067 - accuracy: 0.8776\n",
            "Epoch 38/100\n",
            "4/4 [==============================] - 2s 462ms/step - loss: 0.3349 - accuracy: 0.8571\n",
            "Epoch 39/100\n",
            "4/4 [==============================] - 2s 463ms/step - loss: 0.2440 - accuracy: 0.9184\n",
            "Epoch 40/100\n",
            "4/4 [==============================] - 2s 486ms/step - loss: 0.2525 - accuracy: 0.8673\n",
            "Epoch 41/100\n",
            "4/4 [==============================] - 2s 482ms/step - loss: 0.4486 - accuracy: 0.7857\n",
            "Epoch 42/100\n",
            "4/4 [==============================] - 2s 454ms/step - loss: 0.4696 - accuracy: 0.7755\n",
            "Epoch 43/100\n",
            "4/4 [==============================] - 2s 682ms/step - loss: 0.3104 - accuracy: 0.8980\n",
            "Epoch 44/100\n",
            "4/4 [==============================] - 2s 456ms/step - loss: 0.3053 - accuracy: 0.8878\n",
            "Epoch 45/100\n",
            "4/4 [==============================] - 2s 683ms/step - loss: 0.3020 - accuracy: 0.8673\n",
            "Epoch 46/100\n",
            "4/4 [==============================] - 2s 686ms/step - loss: 0.3124 - accuracy: 0.8673\n",
            "Epoch 47/100\n",
            "4/4 [==============================] - 2s 467ms/step - loss: 0.2351 - accuracy: 0.8980\n",
            "Epoch 48/100\n",
            "4/4 [==============================] - 2s 486ms/step - loss: 0.2439 - accuracy: 0.9082\n",
            "Epoch 49/100\n",
            "4/4 [==============================] - 2s 482ms/step - loss: 0.2444 - accuracy: 0.9082\n",
            "Epoch 50/100\n",
            "4/4 [==============================] - 2s 690ms/step - loss: 0.2383 - accuracy: 0.8980\n",
            "Epoch 51/100\n",
            "4/4 [==============================] - 2s 471ms/step - loss: 0.2849 - accuracy: 0.8469\n",
            "Epoch 52/100\n",
            "4/4 [==============================] - 2s 685ms/step - loss: 0.3007 - accuracy: 0.8469\n",
            "Epoch 53/100\n",
            "4/4 [==============================] - 2s 484ms/step - loss: 0.2107 - accuracy: 0.9388\n",
            "Epoch 54/100\n",
            "4/4 [==============================] - 2s 455ms/step - loss: 0.1894 - accuracy: 0.9286\n",
            "Epoch 55/100\n",
            "4/4 [==============================] - 2s 700ms/step - loss: 0.2166 - accuracy: 0.8980\n",
            "Epoch 56/100\n",
            "4/4 [==============================] - 2s 456ms/step - loss: 0.1628 - accuracy: 0.9490\n",
            "Epoch 57/100\n",
            "4/4 [==============================] - 2s 450ms/step - loss: 0.2485 - accuracy: 0.8980\n",
            "Epoch 58/100\n",
            "4/4 [==============================] - 2s 454ms/step - loss: 0.1524 - accuracy: 0.9388\n",
            "Epoch 59/100\n",
            "4/4 [==============================] - 2s 457ms/step - loss: 0.2755 - accuracy: 0.8673\n",
            "Epoch 60/100\n",
            "4/4 [==============================] - 2s 455ms/step - loss: 0.2162 - accuracy: 0.9082\n",
            "Epoch 61/100\n",
            "4/4 [==============================] - 2s 492ms/step - loss: 0.2083 - accuracy: 0.9286\n",
            "Epoch 62/100\n",
            "4/4 [==============================] - 2s 457ms/step - loss: 0.1880 - accuracy: 0.9388\n",
            "Epoch 63/100\n",
            "4/4 [==============================] - 2s 485ms/step - loss: 0.1607 - accuracy: 0.9184\n",
            "Epoch 64/100\n",
            "4/4 [==============================] - 2s 465ms/step - loss: 0.1332 - accuracy: 0.9388\n",
            "Epoch 65/100\n",
            "4/4 [==============================] - 2s 494ms/step - loss: 0.1084 - accuracy: 0.9592\n",
            "Epoch 66/100\n",
            "4/4 [==============================] - 2s 459ms/step - loss: 0.0989 - accuracy: 0.9490\n",
            "Epoch 67/100\n",
            "4/4 [==============================] - 2s 461ms/step - loss: 0.1183 - accuracy: 0.9388\n",
            "Epoch 68/100\n",
            "4/4 [==============================] - 2s 689ms/step - loss: 0.0694 - accuracy: 0.9592\n",
            "Epoch 69/100\n",
            "4/4 [==============================] - 2s 681ms/step - loss: 0.0616 - accuracy: 0.9898\n",
            "Epoch 70/100\n",
            "4/4 [==============================] - 2s 459ms/step - loss: 0.0682 - accuracy: 0.9694\n",
            "Epoch 71/100\n",
            "4/4 [==============================] - 2s 491ms/step - loss: 0.0512 - accuracy: 0.9898\n",
            "Epoch 72/100\n",
            "4/4 [==============================] - 2s 474ms/step - loss: 0.0706 - accuracy: 0.9796\n",
            "Epoch 73/100\n",
            "4/4 [==============================] - 2s 458ms/step - loss: 0.0387 - accuracy: 0.9796\n",
            "Epoch 74/100\n",
            "4/4 [==============================] - 2s 462ms/step - loss: 0.0310 - accuracy: 1.0000\n",
            "Epoch 75/100\n",
            "4/4 [==============================] - 2s 454ms/step - loss: 0.0232 - accuracy: 0.9898\n",
            "Epoch 76/100\n",
            "4/4 [==============================] - 2s 454ms/step - loss: 0.0283 - accuracy: 1.0000\n",
            "Epoch 77/100\n",
            "4/4 [==============================] - 2s 473ms/step - loss: 0.0244 - accuracy: 0.9898\n",
            "Epoch 78/100\n",
            "4/4 [==============================] - 2s 465ms/step - loss: 0.0263 - accuracy: 1.0000\n",
            "Epoch 79/100\n",
            "4/4 [==============================] - 2s 454ms/step - loss: 0.0215 - accuracy: 0.9898\n",
            "Epoch 80/100\n",
            "4/4 [==============================] - 2s 461ms/step - loss: 0.0334 - accuracy: 0.9898\n",
            "Epoch 81/100\n",
            "4/4 [==============================] - 2s 485ms/step - loss: 0.0792 - accuracy: 0.9694\n",
            "Epoch 82/100\n",
            "4/4 [==============================] - 2s 484ms/step - loss: 0.0402 - accuracy: 0.9796\n",
            "Epoch 83/100\n",
            "4/4 [==============================] - 2s 464ms/step - loss: 0.0563 - accuracy: 0.9796\n",
            "Epoch 84/100\n",
            "4/4 [==============================] - 2s 486ms/step - loss: 0.0764 - accuracy: 0.9898\n",
            "Epoch 85/100\n",
            "4/4 [==============================] - 2s 691ms/step - loss: 0.1021 - accuracy: 0.9490\n",
            "Epoch 86/100\n",
            "4/4 [==============================] - 2s 692ms/step - loss: 0.0638 - accuracy: 0.9694\n",
            "Epoch 87/100\n",
            "4/4 [==============================] - 2s 487ms/step - loss: 0.1326 - accuracy: 0.9388\n",
            "Epoch 88/100\n",
            "4/4 [==============================] - 2s 454ms/step - loss: 0.0581 - accuracy: 0.9898\n",
            "Epoch 89/100\n",
            "4/4 [==============================] - 2s 452ms/step - loss: 0.1226 - accuracy: 0.9388\n",
            "Epoch 90/100\n",
            "4/4 [==============================] - 2s 450ms/step - loss: 0.1342 - accuracy: 0.9388\n",
            "Epoch 91/100\n",
            "4/4 [==============================] - 2s 482ms/step - loss: 0.0829 - accuracy: 0.9490\n",
            "Epoch 92/100\n",
            "4/4 [==============================] - 2s 698ms/step - loss: 0.0948 - accuracy: 0.9592\n",
            "Epoch 93/100\n",
            "4/4 [==============================] - 2s 455ms/step - loss: 0.0970 - accuracy: 0.9592\n",
            "Epoch 94/100\n",
            "4/4 [==============================] - 2s 464ms/step - loss: 0.1157 - accuracy: 0.9592\n",
            "Epoch 95/100\n",
            "4/4 [==============================] - 2s 449ms/step - loss: 0.0886 - accuracy: 0.9592\n",
            "Epoch 96/100\n",
            "4/4 [==============================] - 2s 455ms/step - loss: 0.0552 - accuracy: 0.9796\n",
            "Epoch 97/100\n",
            "4/4 [==============================] - 2s 460ms/step - loss: 0.0353 - accuracy: 1.0000\n",
            "Epoch 98/100\n",
            "4/4 [==============================] - 2s 486ms/step - loss: 0.0354 - accuracy: 0.9898\n",
            "Epoch 99/100\n",
            "4/4 [==============================] - 2s 680ms/step - loss: 0.0400 - accuracy: 0.9898\n",
            "Epoch 100/100\n",
            "4/4 [==============================] - 2s 454ms/step - loss: 0.0155 - accuracy: 1.0000\n"
          ]
        },
        {
          "output_type": "execute_result",
          "data": {
            "text/plain": [
              "<keras.callbacks.History at 0x7f7b541ba910>"
            ]
          },
          "metadata": {},
          "execution_count": 17
        }
      ]
    },
    {
      "cell_type": "code",
      "source": [
        "#evaluating and predicting our data with validation data and illustrating results on the confusion matrix\n",
        "%matplotlib inline\n",
        "accuracy = convnet_model.evaluate(validation_data)\n",
        "print('Test accuracy: ', accuracy[1])\n",
        "data_prediction = convnet_model.predict(validation_data)\n",
        "predicted = numpy.argmax(data_prediction, axis = 1)\n",
        "correct = numpy.argmax(data_prediction, axis = 1)\n",
        "print('Confusion matrix')\n",
        "print(confusion_matrix(correct, predicted))\n",
        "f, ax = pyplot.subplots(figsize = (8,5))\n",
        "seaborn.heatmap(confusion_matrix(correct, predicted), annot = True, fmt = \".0f\", ax = ax)\n",
        "pyplot.xlabel(\"predicted\")\n",
        "pyplot.ylabel(\"correct\")\n",
        "pyplot.show()"
      ],
      "metadata": {
        "colab": {
          "base_uri": "https://localhost:8080/",
          "height": 421
        },
        "id": "QZs-cl2tHKmS",
        "outputId": "fe41108c-58ee-4147-9b27-4ef235ce551b"
      },
      "execution_count": null,
      "outputs": [
        {
          "output_type": "stream",
          "name": "stdout",
          "text": [
            "1/1 [==============================] - 0s 401ms/step - loss: 0.2940 - accuracy: 0.8696\n",
            "Test accuracy:  0.8695651888847351\n",
            "Confusion matrix\n",
            "[[15  0]\n",
            " [ 0  8]]\n"
          ]
        },
        {
          "output_type": "display_data",
          "data": {
            "image/png": "[encoded data removed]",
            "text/plain": [
              "<Figure size 576x360 with 2 Axes>"
            ]
          },
          "metadata": {
            "needs_background": "light"
          }
        }
      ]
    }
  ]
}